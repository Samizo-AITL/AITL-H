# 📘 fsm_simulator.ipynb – FSMシミュレータ ノートブック構成

FSM動作の可視化・シミュレーションを行うための Jupyter ノートブックです。  
FSM構造のテストと可視化、LLM連携の確認にも使用可能です。

---

## 🔧 セクション構成（目次）

1. はじめに：目的と準備
2. FSM定義ファイルの読み込み（`fsm_state_def.yaml`）
3. FSMエンジンの初期化
4. 入力シーケンスのシミュレーション実行
5. 遷移ログの出力と可視化（時系列・グラフ）
6. 状態遷移グラフの描画（networkx + matplotlib）
7. LLM連携プロンプトとの接続テスト（任意）

---

## ✅ FSMエンジン読み込みと初期化

```python
from fsm_engine import FSMEngine
import yaml

with open('fsm_state_def.yaml') as f:
    config = yaml.safe_load(f)

fsm = FSMEngine(config)
fsm.get_current_state()  # 例: 'idle'
```

---

## 📥 入力シーケンスの一括実行

```python
inputs = ['start', 'complete', 'obstacle_detected', 'confirmed']
for inp in inputs:
    fsm.process_input(inp)
    print(f"入力: {inp} → 現在状態: {fsm.get_current_state()}")
```

---

## 📊 可視化（networkx）

```python
import networkx as nx
import matplotlib.pyplot as plt

G = fsm.to_graph()  # 遷移定義からグラフ生成
pos = nx.spring_layout(G)
nx.draw(G, pos, with_labels=True, arrows=True)
plt.show()
```

---

## 💬 LLMとの連携（任意）

```python
from llm_interface import generate_fsm_transition

prompt = "立って歩いて止まって座るFSMの状態遷移をYAMLで出力して"
yaml_code = generate_fsm_transition(prompt)
print(yaml_code)
```

---

## 📁 備考

- `.ipynb` ファイルは `PoC/` 以下でも使用可能
- `fsm_state_def.yaml` に依存するため事前準備が必要
