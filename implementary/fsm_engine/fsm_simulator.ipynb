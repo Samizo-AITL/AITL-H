{
 "cells": [
  {
   "cell_type": "markdown",
   "id": "c89ea149",
   "metadata": {},
   "source": [
    "# 📘 FSM Simulator – 状態遷移の可視化とテスト\n",
    "\n",
    "このノートブックでは、AITL-H構想のFSM定義を読み込み、状態遷移の挙動をシミュレーション・可視化します。FSMの構造理解や、LLM連携の動作確認にも利用できます。\n"
   ]
  },
  {
   "cell_type": "code",
   "execution_count": null,
   "id": "4335664a",
   "metadata": {},
   "outputs": [],
   "source": [
    "import yaml\n",
    "import networkx as nx\n",
    "import matplotlib.pyplot as plt\n",
    "from implementary.fsm_engine import FSMEngine\n"
   ]
  },
  {
   "cell_type": "code",
   "execution_count": null,
   "id": "0a9a9256",
   "metadata": {},
   "outputs": [],
   "source": [
    "with open('../PoC/fsm_config.yaml') as f:\n",
    "    fsm_def = yaml.safe_load(f)\n",
    "\n",
    "fsm = FSMEngine(fsm_def)\n",
    "print(\"初期状態:\", fsm.get_current_state())\n"
   ]
  },
  {
   "cell_type": "code",
   "execution_count": null,
   "id": "81111785",
   "metadata": {},
   "outputs": [],
   "source": [
    "G = nx.DiGraph()\n",
    "for state, info in fsm_def[\"states\"].items():\n",
    "    for t in info.get(\"transitions\", []):\n",
    "        G.add_edge(state, t[\"next_state\"], label=t[\"event\"])\n",
    "\n",
    "pos = nx.spring_layout(G)\n",
    "plt.figure(figsize=(10, 7))\n",
    "nx.draw(G, pos, with_labels=True, node_color='lightgreen', node_size=2000, font_size=12)\n",
    "edge_labels = {(u, v): d[\"label\"] for u, v, d in G.edges(data=True)}\n",
    "nx.draw_networkx_edge_labels(G, pos, edge_labels=edge_labels, font_color='red')\n",
    "plt.title(\"FSM 状態遷移図\", fontsize=16)\n",
    "plt.show()\n"
   ]
  },
  {
   "cell_type": "code",
   "execution_count": null,
   "id": "9d22bf8b",
   "metadata": {},
   "outputs": [],
   "source": [
    "# 手動でイベントを入力してFSMを進行させるループ（停止で終了）\n",
    "while not fsm.is_finished():\n",
    "    print(f\"🟡 現在状態: {fsm.get_current_state()}\")\n",
    "    event = input(\"▶ イベント名を入力（例: start_command）:\")\n",
    "    if event.strip() == \"\":\n",
    "        break\n",
    "    fsm.inject_event(event)\n"
   ]
  },
  {
   "cell_type": "markdown",
   "id": "1d51a3c2",
   "metadata": {},
   "source": [
    "## 💬 LLM連携テスト（任意）\n",
    "\n",
    "FSM構造をLLMから生成するプロンプト応答の例。\n"
   ]
  },
  {
   "cell_type": "code",
   "execution_count": null,
   "id": "bd55fc44",
   "metadata": {},
   "outputs": [],
   "source": [
    "# 仮の関数（実装されていない場合はパス）\n",
    "def generate_fsm_yaml_from_prompt(prompt):\n",
    "    return f\"# YAML for prompt: {prompt}\\nstates:\\n  - name: IDLE\\n    on_input:\\n      start: WALK\"\n",
    "\n",
    "prompt = \"立って歩いて止まるFSMのYAMLを出力して\"\n",
    "print(generate_fsm_yaml_from_prompt(prompt))\n"
   ]
  }
 ],
 "metadata": {},
 "nbformat": 4,
 "nbformat_minor": 5
}