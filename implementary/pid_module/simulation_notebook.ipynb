# simulation_notebook.ipynb（内容要約）

## 🔧 セル①：前提ライブラリのインポート
import numpy as np
import matplotlib.pyplot as plt
from pid_controller import PIDController
from hinf_controller import HinfController

## 🔧 セル②：シミュレーション条件の設定
t = np.linspace(0, 10, 1000)          # 時間軸
ref = np.ones_like(t) * 1.0           # 目標値（ステップ入力）

## 🔧 セル③：PID制御応答の確認
pid = PIDController(Kp=2.0, Ki=1.0, Kd=0.5)
y_pid = []        # 出力記録
u_pid = []        # 制御入力記録
prev_error = 0.0

for i in range(len(t)):
    error = ref[i] - (y_pid[-1] if y_pid else 0)
    control = pid.update(error)
    output = control * 0.9  # 仮の応答モデル
    y_pid.append(output)
    u_pid.append(control)

plt.plot(t, y_pid, label='PID Output')
plt.title('PID Response')
plt.xlabel('Time [s]')
plt.ylabel('Output')
plt.legend()
plt.grid()
plt.show()

## 🔧 セル④：H∞応答（LTIモデル例）
A = np.array([[0.0, 1.0], [-2.0, -3.0]])
B = np.array([[0.0], [1.0]])
C = np.array([[1.0, 0.0]])
D = np.array([[0.0]])

hinf = HinfController(A, B, C, D)
_, y_hinf = hinf.simulate_response(u=ref, t=t)

plt.plot(t, y_hinf, label='H∞ Output', color='red')
plt.title('H∞ Response (LTI)')
plt.xlabel('Time [s]')
plt.ylabel('Output')
plt.legend()
plt.grid()
plt.show()
