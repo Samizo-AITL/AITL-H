# gimbal_sim_demo.ipynb（抜粋形式）

from control_fsm_pid_llm import GimbalController
import json

# コンフィグ読み込み
with open("config/config_gimbal.json") as f:
    config = json.load(f)

controller = GimbalController(config)

# センサ値例
sensor_data = {
    "trigger": True,
    "overload": False,
    "reset": False,
    "target_angle": 30,
    "current_angle": 10
}

# シミュレーション1ステップ
controller.run_step(sensor_data)
